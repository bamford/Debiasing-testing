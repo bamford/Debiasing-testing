{
 "metadata": {
  "name": "",
  "signature": "sha256:259ba4101dafedc86ea3a0acc1cc2307aa9c83a9ec2dc6e2122fc8f910b918d2"
 },
 "nbformat": 3,
 "nbformat_minor": 0,
 "worksheets": [
  {
   "cells": [
    {
     "cell_type": "code",
     "collapsed": false,
     "input": [
      "source_dir = \"../../fits/\" # Directory containing the fits files.\n",
      "\n",
      "full_sample = \"Full_sample_spec_w_urls.fits\" # Full sample of galaxies (to be voronoi binned). This should contain all of the galaxies in the sample.\n",
      "vl_sample = \"Volume_limited_sample_Baldry_w_bd.fits\" # Volume-limited galaxy sample to be debiased.\n",
      "\n",
      "p_cut=0.5\n",
      "N_cut=10\n",
      "\n",
      "#############\n",
      "\n",
      "full_data = fits.getdata(source_dir + full_sample,1)\n",
      "data_table = np.array([full_data.field(c) for c in [\"R50_KPC\",\"PETROMAG_MR\"]])\n",
      "\n",
      "data_table = np.concatenate([data_table, np.ones((2,len(data_table.T)))])\n",
      "\n",
      "#data_table=data_table.T"
     ],
     "language": "python",
     "metadata": {},
     "outputs": [],
     "prompt_number": 28
    },
    {
     "cell_type": "code",
     "collapsed": false,
     "input": [
      "p_spiral=(full_data.field(\"t01_smooth_or_features_a02_features_or_disk_debiased\")*\n",
      "              full_data.field(\"t02_edgeon_a05_no_debiased\")*\n",
      "              full_data.field(\"t04_spiral_a08_spiral_debiased\"))\n",
      "N_spiral=(full_data.field(\"t04_spiral_a08_spiral_count\"))\n",
      "\n",
      "data_table =  ((data_table.T)[(p_spiral > p_cut) & (N_spiral >= N_cut)]).T\n",
      "\n",
      "x, y, signal, noise = data_table"
     ],
     "language": "python",
     "metadata": {},
     "outputs": [],
     "prompt_number": 29
    },
    {
     "cell_type": "code",
     "collapsed": false,
     "input": [
      "print(x.shape,y.shape,signal.shape,noise.shape)"
     ],
     "language": "python",
     "metadata": {},
     "outputs": [
      {
       "output_type": "stream",
       "stream": "stdout",
       "text": [
        "(41584,) (41584,) (41584,) (41584,)\n"
       ]
      }
     ],
     "prompt_number": 31
    },
    {
     "cell_type": "code",
     "collapsed": false,
     "input": [],
     "language": "python",
     "metadata": {},
     "outputs": []
    }
   ],
   "metadata": {}
  }
 ]
}