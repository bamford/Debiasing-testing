{
 "metadata": {
  "name": "",
  "signature": "sha256:ebbed6d6925012cf5194d0a74423a1796f3c501d4916a9e28406542af3f32efd"
 },
 "nbformat": 3,
 "nbformat_minor": 0,
 "worksheets": [
  {
   "cells": [
    {
     "cell_type": "code",
     "collapsed": false,
     "input": [
      "k_min = np.load(\"npy/kmin.npy\")\n",
      "k_max = np.load(\"npy/kmax.npy\")\n",
      "c_min = np.load(\"npy/cmin.npy\")\n",
      "c_max = np.load(\"npy/cmax.npy\")\n",
      "\n",
      "a = 1\n",
      "\n",
      "k_min = k_min[a,0]\n",
      "k_max = k_max[a,0]\n",
      "c_min = c_min[a,1]\n",
      "c_max = c_max[a,1]"
     ],
     "language": "python",
     "metadata": {},
     "outputs": [],
     "prompt_number": 6
    },
    {
     "cell_type": "code",
     "collapsed": false,
     "input": [
      "def f(x,k,c): \n",
      "        \n",
      "    # Function for getting log(vf) (x) from CF ('y')\n",
      "    ############################################################################\n",
      "\n",
      "    L=1+np.exp(c)\n",
      "        \n",
      "    return L/(1+np.exp(-k*x+c))"
     ],
     "language": "python",
     "metadata": {},
     "outputs": [],
     "prompt_number": 12
    },
    {
     "cell_type": "code",
     "collapsed": false,
     "input": [
      "x=np.linspace(-3,0,100)\n",
      "\n",
      "plt.plot(x,f(x,k_max,c_max),label=\"1\")\n",
      "plt.plot(x,f(x,k_max,c_min),label=\"2\")\n",
      "\n",
      "plt.plot(x,f(x,k_min,c_max),label=\"3\")\n",
      "plt.plot(x,f(x,k_min,c_min),label=\"4\")\n",
      "\n",
      "plt.legend()\n",
      "plt.show()"
     ],
     "language": "python",
     "metadata": {},
     "outputs": [],
     "prompt_number": 18
    },
    {
     "cell_type": "code",
     "collapsed": false,
     "input": [],
     "language": "python",
     "metadata": {},
     "outputs": []
    }
   ],
   "metadata": {}
  }
 ]
}