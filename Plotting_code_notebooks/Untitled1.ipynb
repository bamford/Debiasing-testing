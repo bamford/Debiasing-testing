{
 "metadata": {
  "name": "",
  "signature": "sha256:9a191a7aacf0b9c5f77c17290f0c8cdf81a3ecd38688439f82ddea15009aa9aa"
 },
 "nbformat": 3,
 "nbformat_minor": 0,
 "worksheets": [
  {
   "cells": [
    {
     "cell_type": "code",
     "collapsed": false,
     "input": [
      "import numpy as np\n",
      "import matplotlib.pyplot as plt\n",
      "from sklearn.datasets import fetch_species_distributions\n",
      "from sklearn.datasets.species_distributions import construct_grids\n",
      "from sklearn.neighbors import KernelDensity\n",
      "\n",
      "# if basemap is available, we'll use it.\n",
      "# otherwise, we'll improvise later...\n",
      "try:\n",
      "    from mpl_toolkits.basemap import Basemap\n",
      "    basemap = True\n",
      "except ImportError:\n",
      "    basemap = False\n",
      "\n",
      "# Get matrices/arrays of species IDs and locations\n",
      "data = fetch_species_distributions()\n",
      "species_names = ['Bradypus Variegatus', 'Microryzomys Minutus']\n",
      "\n",
      "Xtrain = np.vstack([data['train']['dd lat'],\n",
      "                    data['train']['dd long']]).T\n",
      "ytrain = np.array([d.decode('ascii').startswith('micro')\n",
      "                  for d in data['train']['species']], dtype='int')\n",
      "Xtrain *= np.pi / 180.  # Convert lat/long to radians"
     ],
     "language": "python",
     "metadata": {},
     "outputs": [],
     "prompt_number": 3
    },
    {
     "cell_type": "code",
     "collapsed": false,
     "input": [
      "# Set up the data grid for the contour plot\n",
      "xgrid, ygrid = construct_grids(data)\n",
      "X, Y = np.meshgrid(xgrid[::5], ygrid[::5][::-1])\n",
      "land_reference = data.coverages[6][::5, ::5]\n",
      "land_mask = (land_reference > -9999).ravel()\n",
      "\n",
      "xy = np.vstack([Y.ravel(), X.ravel()]).T\n",
      "xy = xy[land_mask]\n",
      "xy *= np.pi / 180"
     ],
     "language": "python",
     "metadata": {},
     "outputs": [],
     "prompt_number": 4
    },
    {
     "cell_type": "code",
     "collapsed": false,
     "input": [
      "print(xy.shape)"
     ],
     "language": "python",
     "metadata": {},
     "outputs": [
      {
       "output_type": "stream",
       "stream": "stdout",
       "text": [
        "(28008, 2)\n"
       ]
      }
     ],
     "prompt_number": 9
    },
    {
     "cell_type": "code",
     "collapsed": false,
     "input": [
      "# Plot map of South America with distributions of each species\n",
      "fig = plt.figure()\n",
      "fig.subplots_adjust(left=0.05, right=0.95, wspace=0.05)\n",
      "\n",
      "for i in range(2):\n",
      "    plt.subplot(1, 2, i + 1)\n",
      "\n",
      "    # construct a kernel density estimate of the distribution\n",
      "    print(\" - computing KDE in spherical coordinates\")\n",
      "    kde = KernelDensity(bandwidth=0.04, metric='haversine',\n",
      "                        kernel='gaussian', algorithm='ball_tree')\n",
      "    kde.fit(Xtrain[ytrain == i])\n",
      "\n",
      "    # evaluate only on the land: -9999 indicates ocean\n",
      "    Z = -9999 + np.zeros(land_mask.shape[0])\n",
      "    Z[land_mask] = np.exp(kde.score_samples(xy))\n",
      "    Z = Z.reshape(X.shape)\n",
      "\n",
      "    # plot contours of the density\n",
      "    levels = np.linspace(0, Z.max(), 25)\n",
      "    plt.contourf(X, Y, Z, levels=levels, cmap=plt.cm.Reds)\n",
      "\n",
      "    if basemap:\n",
      "        print(\" - plot coastlines using basemap\")\n",
      "        m = Basemap(projection='cyl', llcrnrlat=Y.min(),\n",
      "                    urcrnrlat=Y.max(), llcrnrlon=X.min(),\n",
      "                    urcrnrlon=X.max(), resolution='c')\n",
      "        m.drawcoastlines()\n",
      "        m.drawcountries()\n",
      "    else:\n",
      "        print(\" - plot coastlines from coverage\")\n",
      "        plt.contour(X, Y, land_reference,\n",
      "                    levels=[-9999], colors=\"k\",\n",
      "                    linestyles=\"solid\")\n",
      "        plt.xticks([])\n",
      "        plt.yticks([])\n",
      "\n",
      "    plt.title(species_names[i])\n",
      "\n",
      "plt.show()"
     ],
     "language": "python",
     "metadata": {},
     "outputs": []
    }
   ],
   "metadata": {}
  }
 ]
}