{
 "metadata": {
  "name": "",
  "signature": "sha256:c8e8618d4c73d83746f6df43a5a64ef283bc60502d42221e7c2984287ff8572e"
 },
 "nbformat": 3,
 "nbformat_minor": 0,
 "worksheets": [
  {
   "cells": [
    {
     "cell_type": "code",
     "collapsed": false,
     "input": [
      "from sklearn import cross_validation\n",
      "from sklearn.neighbors.kde import KernelDensity\n",
      "\n",
      "from scipy"
     ],
     "language": "python",
     "metadata": {},
     "outputs": [
      {
       "ename": "AttributeError",
       "evalue": "'module' object has no attribute 'randn'",
       "output_type": "pyerr",
       "traceback": [
        "\u001b[1;31m---------------------------------------------------------------------------\u001b[0m\n\u001b[1;31mAttributeError\u001b[0m                            Traceback (most recent call last)",
        "\u001b[1;32m<ipython-input-33-df291e677d91>\u001b[0m in \u001b[0;36m<module>\u001b[1;34m()\u001b[0m\n\u001b[0;32m      2\u001b[0m \u001b[1;32mfrom\u001b[0m \u001b[0msklearn\u001b[0m\u001b[1;33m.\u001b[0m\u001b[0mneighbors\u001b[0m\u001b[1;33m.\u001b[0m\u001b[0mkde\u001b[0m \u001b[1;32mimport\u001b[0m \u001b[0mKernelDensity\u001b[0m\u001b[1;33m\u001b[0m\u001b[0m\n\u001b[0;32m      3\u001b[0m \u001b[1;33m\u001b[0m\u001b[0m\n\u001b[1;32m----> 4\u001b[1;33m \u001b[0mX\u001b[0m \u001b[1;33m=\u001b[0m \u001b[0mnp\u001b[0m\u001b[1;33m.\u001b[0m\u001b[0mrandn\u001b[0m\u001b[1;33m(\u001b[0m\u001b[1;36m100\u001b[0m\u001b[1;33m)\u001b[0m\u001b[1;33m\u001b[0m\u001b[0m\n\u001b[0m",
        "\u001b[1;31mAttributeError\u001b[0m: 'module' object has no attribute 'randn'"
       ]
      }
     ],
     "prompt_number": 33
    },
    {
     "cell_type": "code",
     "collapsed": false,
     "input": [
      "print(X.shape)"
     ],
     "language": "python",
     "metadata": {},
     "outputs": [
      {
       "output_type": "stream",
       "stream": "stdout",
       "text": [
        "(1000, 1)\n"
       ]
      }
     ],
     "prompt_number": 58
    },
    {
     "cell_type": "code",
     "collapsed": false,
     "input": [
      "N=100\n",
      "\n",
      "xmin = -3\n",
      "xmax = 3\n",
      "ymin = -3\n",
      "ymax = 3\n",
      "\n",
      "in_data = np.random.randn(N,2)\n",
      "\n",
      "X, Y = np.mgrid[xmin:xmax:100j, ymin:ymax:100j]\n",
      "positions = np.vstack([X.ravel(), Y.ravel()])\n",
      "values = in_data\n",
      "kernel = stats.gaussian_kde(values)\n",
      "Z = np.reshape(kernel(positions).T, X.shape)"
     ],
     "language": "python",
     "metadata": {},
     "outputs": [
      {
       "ename": "NameError",
       "evalue": "name 'stats' is not defined",
       "output_type": "pyerr",
       "traceback": [
        "\u001b[1;31m---------------------------------------------------------------------------\u001b[0m\n\u001b[1;31mNameError\u001b[0m                                 Traceback (most recent call last)",
        "\u001b[1;32m<ipython-input-76-b46c17688d41>\u001b[0m in \u001b[0;36m<module>\u001b[1;34m()\u001b[0m\n\u001b[0;32m     11\u001b[0m \u001b[0mpositions\u001b[0m \u001b[1;33m=\u001b[0m \u001b[0mnp\u001b[0m\u001b[1;33m.\u001b[0m\u001b[0mvstack\u001b[0m\u001b[1;33m(\u001b[0m\u001b[1;33m[\u001b[0m\u001b[0mX\u001b[0m\u001b[1;33m.\u001b[0m\u001b[0mravel\u001b[0m\u001b[1;33m(\u001b[0m\u001b[1;33m)\u001b[0m\u001b[1;33m,\u001b[0m \u001b[0mY\u001b[0m\u001b[1;33m.\u001b[0m\u001b[0mravel\u001b[0m\u001b[1;33m(\u001b[0m\u001b[1;33m)\u001b[0m\u001b[1;33m]\u001b[0m\u001b[1;33m)\u001b[0m\u001b[1;33m\u001b[0m\u001b[0m\n\u001b[0;32m     12\u001b[0m \u001b[0mvalues\u001b[0m \u001b[1;33m=\u001b[0m \u001b[0min_data\u001b[0m\u001b[1;33m\u001b[0m\u001b[0m\n\u001b[1;32m---> 13\u001b[1;33m \u001b[0mkernel\u001b[0m \u001b[1;33m=\u001b[0m \u001b[0mstats\u001b[0m\u001b[1;33m.\u001b[0m\u001b[0mgaussian_kde\u001b[0m\u001b[1;33m(\u001b[0m\u001b[0mvalues\u001b[0m\u001b[1;33m)\u001b[0m\u001b[1;33m\u001b[0m\u001b[0m\n\u001b[0m\u001b[0;32m     14\u001b[0m \u001b[0mZ\u001b[0m \u001b[1;33m=\u001b[0m \u001b[0mnp\u001b[0m\u001b[1;33m.\u001b[0m\u001b[0mreshape\u001b[0m\u001b[1;33m(\u001b[0m\u001b[0mkernel\u001b[0m\u001b[1;33m(\u001b[0m\u001b[0mpositions\u001b[0m\u001b[1;33m)\u001b[0m\u001b[1;33m.\u001b[0m\u001b[0mT\u001b[0m\u001b[1;33m,\u001b[0m \u001b[0mX\u001b[0m\u001b[1;33m.\u001b[0m\u001b[0mshape\u001b[0m\u001b[1;33m)\u001b[0m\u001b[1;33m\u001b[0m\u001b[0m\n",
        "\u001b[1;31mNameError\u001b[0m: name 'stats' is not defined"
       ]
      }
     ],
     "prompt_number": 76
    },
    {
     "cell_type": "code",
     "collapsed": false,
     "input": [
      "kde = KernelDensity(kernel='gaussian', bandwidth=0.75).fit(X)\n",
      "log_dens = kde.score_samples(X_plot)\n",
      "#plt.fill(X_plot[:, 0], np.exp(log_dens), fc='#AAAAFF')\n",
      "#plt.text(-3.5, 0.31, \"Gaussian Kernel Density\")\n",
      "\n",
      "plt.show()"
     ],
     "language": "python",
     "metadata": {},
     "outputs": [
      {
       "ename": "ValueError",
       "evalue": "query data dimension must match training data dimension",
       "output_type": "pyerr",
       "traceback": [
        "\u001b[1;31m---------------------------------------------------------------------------\u001b[0m\n\u001b[1;31mValueError\u001b[0m                                Traceback (most recent call last)",
        "\u001b[1;32m<ipython-input-68-a163eb47e00a>\u001b[0m in \u001b[0;36m<module>\u001b[1;34m()\u001b[0m\n\u001b[0;32m      1\u001b[0m \u001b[0mkde\u001b[0m \u001b[1;33m=\u001b[0m \u001b[0mKernelDensity\u001b[0m\u001b[1;33m(\u001b[0m\u001b[0mkernel\u001b[0m\u001b[1;33m=\u001b[0m\u001b[1;34m'gaussian'\u001b[0m\u001b[1;33m,\u001b[0m \u001b[0mbandwidth\u001b[0m\u001b[1;33m=\u001b[0m\u001b[1;36m0.75\u001b[0m\u001b[1;33m)\u001b[0m\u001b[1;33m.\u001b[0m\u001b[0mfit\u001b[0m\u001b[1;33m(\u001b[0m\u001b[0mX\u001b[0m\u001b[1;33m)\u001b[0m\u001b[1;33m\u001b[0m\u001b[0m\n\u001b[1;32m----> 2\u001b[1;33m \u001b[0mlog_dens\u001b[0m \u001b[1;33m=\u001b[0m \u001b[0mkde\u001b[0m\u001b[1;33m.\u001b[0m\u001b[0mscore_samples\u001b[0m\u001b[1;33m(\u001b[0m\u001b[0mX_plot\u001b[0m\u001b[1;33m)\u001b[0m\u001b[1;33m\u001b[0m\u001b[0m\n\u001b[0m\u001b[0;32m      3\u001b[0m \u001b[1;31m#plt.fill(X_plot[:, 0], np.exp(log_dens), fc='#AAAAFF')\u001b[0m\u001b[1;33m\u001b[0m\u001b[1;33m\u001b[0m\u001b[0m\n\u001b[0;32m      4\u001b[0m \u001b[1;31m#plt.text(-3.5, 0.31, \"Gaussian Kernel Density\")\u001b[0m\u001b[1;33m\u001b[0m\u001b[1;33m\u001b[0m\u001b[0m\n\u001b[0;32m      5\u001b[0m \u001b[1;33m\u001b[0m\u001b[0m\n",
        "\u001b[1;32m/home/ppxrh/anaconda3/lib/python3.4/site-packages/sklearn/neighbors/kde.py\u001b[0m in \u001b[0;36mscore_samples\u001b[1;34m(self, X)\u001b[0m\n\u001b[0;32m    153\u001b[0m         log_density = self.tree_.kernel_density(\n\u001b[0;32m    154\u001b[0m             \u001b[0mX\u001b[0m\u001b[1;33m,\u001b[0m \u001b[0mh\u001b[0m\u001b[1;33m=\u001b[0m\u001b[0mself\u001b[0m\u001b[1;33m.\u001b[0m\u001b[0mbandwidth\u001b[0m\u001b[1;33m,\u001b[0m \u001b[0mkernel\u001b[0m\u001b[1;33m=\u001b[0m\u001b[0mself\u001b[0m\u001b[1;33m.\u001b[0m\u001b[0mkernel\u001b[0m\u001b[1;33m,\u001b[0m \u001b[0matol\u001b[0m\u001b[1;33m=\u001b[0m\u001b[0matol_N\u001b[0m\u001b[1;33m,\u001b[0m\u001b[1;33m\u001b[0m\u001b[0m\n\u001b[1;32m--> 155\u001b[1;33m             rtol=self.rtol, breadth_first=self.breadth_first, return_log=True)\n\u001b[0m\u001b[0;32m    156\u001b[0m         \u001b[0mlog_density\u001b[0m \u001b[1;33m-=\u001b[0m \u001b[0mnp\u001b[0m\u001b[1;33m.\u001b[0m\u001b[0mlog\u001b[0m\u001b[1;33m(\u001b[0m\u001b[0mN\u001b[0m\u001b[1;33m)\u001b[0m\u001b[1;33m\u001b[0m\u001b[0m\n\u001b[0;32m    157\u001b[0m         \u001b[1;32mreturn\u001b[0m \u001b[0mlog_density\u001b[0m\u001b[1;33m\u001b[0m\u001b[0m\n",
        "\u001b[1;32m/home/ppxrh/anaconda3/lib/python3.4/site-packages/sklearn/neighbors/kd_tree.cpython-34m.so\u001b[0m in \u001b[0;36msklearn.neighbors.kd_tree.BinaryTree.kernel_density (sklearn/neighbors/kd_tree.c:12787)\u001b[1;34m()\u001b[0m\n",
        "\u001b[1;31mValueError\u001b[0m: query data dimension must match training data dimension"
       ]
      }
     ],
     "prompt_number": 68
    },
    {
     "cell_type": "code",
     "collapsed": false,
     "input": [
      "import numpy as np\n",
      "import matplotlib.pyplot as plt\n",
      "from sklearn.datasets import fetch_species_distributions\n",
      "from sklearn.datasets.species_distributions import construct_grids\n",
      "from sklearn.neighbors import KernelDensity\n",
      "\n",
      "# if basemap is available, we'll use it.\n",
      "# otherwise, we'll improvise later...\n",
      "try:\n",
      "    from mpl_toolkits.basemap import Basemap\n",
      "    basemap = True\n",
      "except ImportError:\n",
      "    basemap = False\n",
      "\n",
      "# Get matrices/arrays of species IDs and locations\n",
      "data = fetch_species_distributions()\n",
      "species_names = ['Bradypus Variegatus', 'Microryzomys Minutus']\n",
      "\n",
      "Xtrain = np.vstack([data['train']['dd lat'],\n",
      "                    data['train']['dd long']]).T\n",
      "ytrain = np.array([d.decode('ascii').startswith('micro')\n",
      "                  for d in data['train']['species']], dtype='int')\n",
      "Xtrain *= np.pi / 180.  # Convert lat/long to radians\n",
      "\n",
      "# Set up the data grid for the contour plot\n",
      "xgrid, ygrid = construct_grids(data)\n",
      "X, Y = np.meshgrid(xgrid[::5], ygrid[::5][::-1])\n",
      "land_reference = data.coverages[6][::5, ::5]\n",
      "land_mask = (land_reference > -9999).ravel()\n",
      "\n",
      "xy = np.vstack([Y.ravel(), X.ravel()]).T\n",
      "xy = xy[land_mask]\n",
      "xy *= np.pi / 180.\n",
      "\n",
      "# Plot map of South America with distributions of each species\n",
      "fig = plt.figure()\n",
      "fig.subplots_adjust(left=0.05, right=0.95, wspace=0.05)\n",
      "\n",
      "for i in range(2):\n",
      "    plt.subplot(1, 2, i + 1)\n",
      "\n",
      "    # construct a kernel density estimate of the distribution\n",
      "    print(\" - computing KDE in spherical coordinates\")\n",
      "    kde = KernelDensity(bandwidth=0.04, metric='haversine',\n",
      "                        kernel='gaussian', algorithm='ball_tree')\n",
      "    kde.fit(Xtrain[ytrain == i])\n",
      "\n",
      "    # evaluate only on the land: -9999 indicates ocean\n",
      "    Z = -9999 + np.zeros(land_mask.shape[0])\n",
      "    Z[land_mask] = np.exp(kde.score_samples(xy))\n",
      "    Z = Z.reshape(X.shape)\n",
      "\n",
      "    # plot contours of the density\n",
      "    levels = np.linspace(0, Z.max(), 25)\n",
      "    plt.contourf(X, Y, Z, levels=levels, cmap=plt.cm.Reds)\n",
      "\n",
      "    if basemap:\n",
      "        print(\" - plot coastlines using basemap\")\n",
      "        m = Basemap(projection='cyl', llcrnrlat=Y.min(),\n",
      "                    urcrnrlat=Y.max(), llcrnrlon=X.min(),\n",
      "                    urcrnrlon=X.max(), resolution='c')\n",
      "        m.drawcoastlines()\n",
      "        m.drawcountries()\n",
      "    else:\n",
      "        print(\" - plot coastlines from coverage\")\n",
      "        plt.contour(X, Y, land_reference,\n",
      "                    levels=[-9999], colors=\"k\",\n",
      "                    linestyles=\"solid\")\n",
      "        plt.xticks([])\n",
      "        plt.yticks([])\n",
      "\n",
      "    plt.title(species_names[i])\n",
      "\n",
      "plt.show()"
     ],
     "language": "python",
     "metadata": {},
     "outputs": [
      {
       "output_type": "stream",
       "stream": "stdout",
       "text": [
        "Downloading species data from http://www.cs.princeton.edu/~schapire/maxent/datasets/samples.zip to /home/ppxrh/scikit_learn_data\n",
        "Downloading coverage data from http://www.cs.princeton.edu/~schapire/maxent/datasets/coverages.zip to /home/ppxrh/scikit_learn_data"
       ]
      },
      {
       "output_type": "stream",
       "stream": "stdout",
       "text": [
        "\n",
        " - converting"
       ]
      },
      {
       "output_type": "stream",
       "stream": "stdout",
       "text": [
        " coverages/cld6190_ann.asc\n",
        "-128.0"
       ]
      },
      {
       "output_type": "stream",
       "stream": "stdout",
       "text": [
        "\n",
        " - converting coverages/dtr6190_ann.asc\n",
        " - converting"
       ]
      },
      {
       "output_type": "stream",
       "stream": "stdout",
       "text": [
        " coverages/ecoreg.asc\n",
        "-128.0"
       ]
      },
      {
       "output_type": "stream",
       "stream": "stderr",
       "text": [
        "/home/ppxrh/anaconda3/lib/python3.4/site-packages/sklearn/datasets/species_distributions.py:78: DeprecationWarning: using a non-integer number instead of an integer will result in an error in the future\n",
        "  M[nodata] = -9999\n",
        "/home/ppxrh/anaconda3/lib/python3.4/site-packages/sklearn/datasets/species_distributions.py:78: DeprecationWarning: using a non-integer number instead of an integer will result in an error in the future\n",
        "  M[nodata] = -9999\n"
       ]
      },
      {
       "output_type": "stream",
       "stream": "stdout",
       "text": [
        "\n",
        " - converting coverages/frs6190_ann.asc\n",
        " - converting"
       ]
      },
      {
       "output_type": "stream",
       "stream": "stdout",
       "text": [
        " coverages/h_dem.asc\n",
        " - converting"
       ]
      },
      {
       "output_type": "stream",
       "stream": "stdout",
       "text": [
        " coverages/pre6190_ann.asc\n",
        " - converting"
       ]
      },
      {
       "output_type": "stream",
       "stream": "stdout",
       "text": [
        " coverages/pre6190_l1.asc\n",
        " - converting"
       ]
      },
      {
       "output_type": "stream",
       "stream": "stdout",
       "text": [
        " coverages/pre6190_l10.asc\n",
        " - converting"
       ]
      },
      {
       "output_type": "stream",
       "stream": "stdout",
       "text": [
        " coverages/pre6190_l4.asc\n",
        " - converting"
       ]
      },
      {
       "output_type": "stream",
       "stream": "stdout",
       "text": [
        " coverages/pre6190_l7.asc\n",
        " - converting"
       ]
      },
      {
       "output_type": "stream",
       "stream": "stdout",
       "text": [
        " coverages/tmn6190_ann.asc\n",
        " - converting"
       ]
      },
      {
       "output_type": "stream",
       "stream": "stdout",
       "text": [
        " coverages/tmp6190_ann.asc\n",
        " - converting"
       ]
      },
      {
       "output_type": "stream",
       "stream": "stdout",
       "text": [
        " coverages/tmx6190_ann.asc\n",
        " - converting"
       ]
      },
      {
       "output_type": "stream",
       "stream": "stdout",
       "text": [
        " coverages/vap6190_ann.asc\n",
        " - computing KDE in spherical coordinates"
       ]
      },
      {
       "output_type": "stream",
       "stream": "stdout",
       "text": [
        "\n",
        " - plot coastlines from coverage"
       ]
      },
      {
       "output_type": "stream",
       "stream": "stdout",
       "text": [
        "\n",
        " - computing KDE in spherical coordinates\n",
        " - plot coastlines from coverage"
       ]
      },
      {
       "output_type": "stream",
       "stream": "stdout",
       "text": [
        "\n"
       ]
      }
     ],
     "prompt_number": 69
    },
    {
     "cell_type": "code",
     "collapsed": false,
     "input": [
      "print(Z.shape)"
     ],
     "language": "python",
     "metadata": {},
     "outputs": [
      {
       "output_type": "stream",
       "stream": "stdout",
       "text": [
        "(319, 243)\n"
       ]
      }
     ],
     "prompt_number": 72
    },
    {
     "cell_type": "code",
     "collapsed": false,
     "input": [],
     "language": "python",
     "metadata": {},
     "outputs": []
    }
   ],
   "metadata": {}
  }
 ]
}