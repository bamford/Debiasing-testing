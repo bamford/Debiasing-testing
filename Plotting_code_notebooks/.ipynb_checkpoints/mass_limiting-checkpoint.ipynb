{
 "metadata": {
  "name": "",
  "signature": "sha256:e1379ec96b47ecb73eec5cba6483576df59adfb6af5a26a30d5c17ab3fc2ebab"
 },
 "nbformat": 3,
 "nbformat_minor": 0,
 "worksheets": [
  {
   "cells": [
    {
     "cell_type": "code",
     "collapsed": false,
     "input": [
      "from astropy.cosmology import FlatLambdaCDM,z_at_value\n",
      "import astropy.units as u\n",
      "\n",
      "cosmo = FlatLambdaCDM(H0=70,Om0=0.3)"
     ],
     "language": "python",
     "metadata": {},
     "outputs": [],
     "prompt_number": 6
    },
    {
     "cell_type": "code",
     "collapsed": false,
     "input": [
      "def get_mass_z_lim(mass_lims,mr_limit): # Has the values [lower mass limit,upper mass limit]\n",
      "\n",
      "    data = fits.getdata(\"fits/Volume_limited_sample_Baldry_w_bd.fits\",1)\n",
      "\n",
      "    colour_mass = np.array([data.field(\"PETROMAG_MU\")-data.field(\"PETROMAG_MR\"),data.field(\"LOGMSTAR_BALDRY06\")]).T\n",
      "    colour_mass = colour_mass[(colour_mass[:,1] >= mass_lims[0]) & (colour_mass[:,1] < mass_lims[1])]\n",
      "    \n",
      "    colour = np.sort(colour_mass[:,0])\n",
      "    u_r_percentile = colour[int(0.999*len(colour))-1]\n",
      "     \n",
      "    if u_r_percentile > 0.79/0.38:\n",
      "        ML_limit = -0.16 + 0.18*u_r_percentile\n",
      "        \n",
      "    else:\n",
      "        ML_limit = -0.95 + 0.56*u_r_percentile\n",
      "\n",
      "    L_limit = (10**mass_lims[0])/(10**ML_limit)\n",
      "    Mag_limit = -2.5*math.log10(L_limit) + 4.75\n",
      "    \n",
      "    D = 10**(((mr_limit-Mag_limit)/5) + 1)\n",
      "    z = z_at_value(cosmo.luminosity_distance, (D/10**6) * u.Mpc, zmax=0.1)\n",
      "    \n",
      "    return z # => This is the redshift limit to which we have a stellar mass limited smaple."
     ],
     "language": "python",
     "metadata": {},
     "outputs": [],
     "prompt_number": 89
    },
    {
     "cell_type": "code",
     "collapsed": false,
     "input": [
      "L_limit = (10**9.9)/(10**0.37)\n",
      "Mag_limit = -19.18\n",
      "mr_limit = 17.77\n",
      "    \n",
      "\n",
      "z = z_at_value(cosmo.luminosity_distance, (D/10**6) * u.Mpc, zmax=0.1)\n",
      "\n",
      "print(z)"
     ],
     "language": "python",
     "metadata": {},
     "outputs": [
      {
       "output_type": "stream",
       "stream": "stdout",
       "text": [
        "0.0550145549037\n"
       ]
      }
     ],
     "prompt_number": 86
    },
    {
     "cell_type": "code",
     "collapsed": false,
     "input": [],
     "language": "python",
     "metadata": {},
     "outputs": []
    }
   ],
   "metadata": {}
  }
 ]
}