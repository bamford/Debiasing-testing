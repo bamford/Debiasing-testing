{
 "metadata": {
  "name": "",
  "signature": "sha256:8c1f0b8c5253be3aead26b9203fb98d5b829a0e3723a76584d8264d044fdd438"
 },
 "nbformat": 3,
 "nbformat_minor": 0,
 "worksheets": [
  {
   "cells": [
    {
     "cell_type": "code",
     "collapsed": false,
     "input": [
      "from astropy.cosmology import FlatLambdaCDM\n",
      "from astropy.coordinates.distances import Distance"
     ],
     "language": "python",
     "metadata": {},
     "outputs": [],
     "prompt_number": 26
    },
    {
     "cell_type": "code",
     "collapsed": false,
     "input": [
      "# Code for calculating the redshift limit for a volume limited sample (by mass)\n",
      "\n",
      "\n",
      "\n",
      "M_r = -2.5*math.log10(10**9.9/10**0.37) + 4.64\n",
      "\n",
      "m_r_full = 17.77"
     ],
     "language": "python",
     "metadata": {},
     "outputs": [],
     "prompt_number": 30
    },
    {
     "cell_type": "code",
     "collapsed": false,
     "input": [
      "cosmo=FlatLambdaCDM(H0=70,Om0=0.3)\n",
      "\n",
      "D = cosmo.luminosity_distance(0.085)*(10**6)\n",
      "m_r = M_r + 5*math.log10((D.value)/10)\n",
      "\n",
      "d2 = 10*10**((m_r-M_r_full/5)) \n",
      "\n",
      "cosmo.z_at_value(d2)"
     ],
     "language": "python",
     "metadata": {},
     "outputs": [
      {
       "ename": "AttributeError",
       "evalue": "'FlatLambdaCDM' object has no attribute 'z_at_value'",
       "output_type": "pyerr",
       "traceback": [
        "\u001b[1;31m---------------------------------------------------------------------------\u001b[0m\n\u001b[1;31mAttributeError\u001b[0m                            Traceback (most recent call last)",
        "\u001b[1;32m<ipython-input-95-934f03a1cbe0>\u001b[0m in \u001b[0;36m<module>\u001b[1;34m()\u001b[0m\n\u001b[0;32m      6\u001b[0m \u001b[0md2\u001b[0m \u001b[1;33m=\u001b[0m \u001b[1;36m10\u001b[0m\u001b[1;33m*\u001b[0m\u001b[1;36m10\u001b[0m\u001b[1;33m**\u001b[0m\u001b[1;33m(\u001b[0m\u001b[1;33m(\u001b[0m\u001b[0mm_r\u001b[0m\u001b[1;33m-\u001b[0m\u001b[0mM_r_full\u001b[0m\u001b[1;33m/\u001b[0m\u001b[1;36m5\u001b[0m\u001b[1;33m)\u001b[0m\u001b[1;33m)\u001b[0m\u001b[1;33m\u001b[0m\u001b[0m\n\u001b[0;32m      7\u001b[0m \u001b[1;33m\u001b[0m\u001b[0m\n\u001b[1;32m----> 8\u001b[1;33m \u001b[0mcosmo\u001b[0m\u001b[1;33m.\u001b[0m\u001b[0mz_at_value\u001b[0m\u001b[1;33m(\u001b[0m\u001b[0md2\u001b[0m\u001b[1;33m)\u001b[0m\u001b[1;33m\u001b[0m\u001b[0m\n\u001b[0m",
        "\u001b[1;31mAttributeError\u001b[0m: 'FlatLambdaCDM' object has no attribute 'z_at_value'"
       ]
      }
     ],
     "prompt_number": 95
    },
    {
     "cell_type": "code",
     "collapsed": false,
     "input": [
      "print(D/(10**6),d2/(3.08567758*10**22))"
     ],
     "language": "python",
     "metadata": {},
     "outputs": [
      {
       "output_type": "stream",
       "stream": "stdout",
       "text": [
        "387.29454016331596 Mpc 20.16090931037302\n"
       ]
      }
     ],
     "prompt_number": 94
    },
    {
     "cell_type": "code",
     "collapsed": false,
     "input": [
      "M_r_full = 17.77 - 5*math.log10((d.value)*10**6/10)"
     ],
     "language": "python",
     "metadata": {},
     "outputs": [],
     "prompt_number": 75
    },
    {
     "cell_type": "code",
     "collapsed": false,
     "input": [],
     "language": "python",
     "metadata": {},
     "outputs": []
    }
   ],
   "metadata": {}
  }
 ]
}