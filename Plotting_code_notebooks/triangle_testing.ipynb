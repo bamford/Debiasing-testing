{
 "metadata": {
  "name": "",
  "signature": "sha256:acdba866b971b45c1b597010042256ff75ed4477354fa90d26e41c8e41656c32"
 },
 "nbformat": 3,
 "nbformat_minor": 0,
 "worksheets": [
  {
   "cells": [
    {
     "cell_type": "code",
     "collapsed": false,
     "input": [
      "import numpy as np\n",
      "import triangle\n",
      "import triangle_edit2"
     ],
     "language": "python",
     "metadata": {},
     "outputs": [],
     "prompt_number": 1
    },
    {
     "cell_type": "code",
     "collapsed": false,
     "input": [
      "x = np.random.randn(10**6)\n",
      "y = np.random.randn(10**6)"
     ],
     "language": "python",
     "metadata": {},
     "outputs": [],
     "prompt_number": 2
    },
    {
     "cell_type": "code",
     "collapsed": false,
     "input": [
      "ndim, nsamples = 2, 1000\n",
      "# Generate some fake data.\n",
      "data1 = np.random.randn(ndim * 4 * nsamples / 5).reshape([4 * nsamples / 5,\n",
      "ndim])\n",
      "\n",
      "x=data1[:,0]\n",
      "y=data1[:,1]\n",
      "\n",
      "#triangle_edit2.hist2d(x=x,y=y,color=\"red\")\n",
      "\n",
      "levels = np.array([0.683,0.95])\n",
      "\n",
      "X2,Y2,H2,V = triangle_edit2.hist2d_2(x=x,y=y,bins=20,levels=levels,range=None)\n",
      "\n",
      "plt.contour(X2, Y2, H2.T, V)\n",
      "plt.show()"
     ],
     "language": "python",
     "metadata": {},
     "outputs": [
      {
       "output_type": "stream",
       "stream": "stdout",
       "text": [
        "[ 4.  1.] 0.0 16.0\n"
       ]
      }
     ],
     "prompt_number": 14
    },
    {
     "cell_type": "code",
     "collapsed": false,
     "input": [
      "import triangle_edit\n",
      "# Set up the parameters of the problem.\n",
      "ndim, nsamples = 3, 50000\n",
      "# Generate some fake data.\n",
      "data1 = np.random.randn(ndim * 4 * nsamples / 5).reshape([4 * nsamples / 5,\n",
      "ndim])\n",
      "data2 = (5 * np.random.rand(ndim)[None, :]\n",
      "+ np.random.randn(ndim * nsamples / 5).reshape([nsamples / 5, ndim]))\n",
      "data = np.vstack([data1, data2])\n",
      "# Plot it.\n",
      "figure = triangle_edit.corner(data, labels=[r\"$x$\", r\"$y$\", r\"$\\log \\alpha$\",\n",
      "r\"$\\Gamma \\, [\\mathrm{parsec}]$\"],\n",
      "truths=[0.0, 0.0, 0.0],\n",
      "quantiles=[0.16, 0.5, 0.84],\n",
      "show_titles=True, title_args={\"fontsize\": 12})\n",
      "figure.gca().annotate(\"A Title\", xy=(0.5, 1.0), xycoords=\"figure fraction\",\n",
      "xytext=(0, -5), textcoords=\"offset points\",\n",
      "ha=\"center\", va=\"top\")\n",
      "\n",
      "plt.figure(2)\n",
      "\n",
      "triangle_edit2.hist2d(x=data1[:,0],y=data1[:,1],color=\"red\")\n",
      "\n",
      "plt.show()"
     ],
     "language": "python",
     "metadata": {},
     "outputs": [],
     "prompt_number": 9
    },
    {
     "cell_type": "code",
     "collapsed": false,
     "input": [],
     "language": "python",
     "metadata": {},
     "outputs": []
    }
   ],
   "metadata": {}
  }
 ]
}