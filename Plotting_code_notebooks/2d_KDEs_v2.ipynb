{
 "metadata": {
  "name": "",
  "signature": "sha256:67105d7a9171e55966803c9849afe2f7e7d37454aef5fe86e8818deb43feb490"
 },
 "nbformat": 3,
 "nbformat_minor": 0,
 "worksheets": [
  {
   "cells": [
    {
     "cell_type": "code",
     "collapsed": false,
     "input": [
      "# A code for finding a reasonable value for the width of a gaussian using cross-validation.\n",
      "\n",
      "from sklearn.cross_validation import KFold\n",
      "from sklearn.neighbors import KernelDensity\n",
      "from sklearn.decomposition import PCA\n",
      "from sklearn.grid_search import GridSearchCV\n",
      "from sklearn import preprocessing\n",
      "\n",
      "import time\n",
      "import load_data\n",
      "import plotting\n",
      "\n",
      "% matplotlib inline"
     ],
     "language": "python",
     "metadata": {},
     "outputs": [],
     "prompt_number": 1
    },
    {
     "cell_type": "code",
     "collapsed": false,
     "input": [
      "def get_bins2(N,x_range,y_range):\n",
      "\n",
      "    bins_x = np.linspace(x_range[0],x_range[1],N+1)\n",
      "    bins_y = np.linspace(y_range[0],y_range[1],N+1)\n",
      "    \n",
      "    bin_centres_x = np.array([bins_x[B] + (bins_x[B+1]-bins_x[B])/2 for B in range(N)])\n",
      "    bin_centres_y = np.array([bins_y[B] + (bins_y[B+1]-bins_y[B])/2 for B in range(N)])\n",
      "    \n",
      "    xx_centres,yy_centres =  np.meshgrid(bin_centres_x,bin_centres_y)\n",
      "    xy = np.array([np.ravel(xx_centres),np.ravel(yy_centres)]).T # Used to 'score' the samples.\n",
      "    \n",
      "    return xy"
     ],
     "language": "python",
     "metadata": {},
     "outputs": [],
     "prompt_number": 2
    },
    {
     "cell_type": "code",
     "collapsed": false,
     "input": [
      "def get_bins(N,x_range,y_range):\n",
      "\n",
      "    bins_x = np.linspace(x_range[0],x_range[1],N+1)\n",
      "    bins_y = np.linspace(y_range[0],y_range[1],N+1)\n",
      "    \n",
      "    bin_centres_x = np.array([bins_x[B] + (bins_x[B+1]-bins_x[B])/2 for B in range(N)])\n",
      "    bin_centres_y = np.array([bins_y[B] + (bins_y[B+1]-bins_y[B])/2 for B in range(N)])\n",
      "    \n",
      "    xx,yy =  np.meshgrid(bins_x,bins_y)\n",
      "    #xy = np.array([np.ravel(xx),np.ravel(yy)]).T \n",
      "    \n",
      "    xx_centres,yy_centres =  np.meshgrid(bin_centres_x,bin_centres_y)\n",
      "    xy = np.array([np.ravel(xx_centres),np.ravel(yy_centres)]).T # Used to 'score' the samples.\n",
      "    \n",
      "    return xx,yy,xx_centres,yy_centres,xy"
     ],
     "language": "python",
     "metadata": {},
     "outputs": [],
     "prompt_number": 3
    },
    {
     "cell_type": "code",
     "collapsed": false,
     "input": [
      "def get_kde_bandwidth1(values,x_range=None,y_range=None,N=10,n_folds=5,num_sigmas=20,plot_values=False):\n",
      "\n",
      "    xx,yy,xxc,yyc,xy = get_bins(x_range=x_range,y_range=y_range,N=N)\n",
      "                   \n",
      "    kf = KFold(n=len(values),n_folds=n_folds,shuffle=True)\n",
      "    \n",
      "    sigmas = np.logspace(-1,0.3,num_sigmas)\n",
      "    chisq = np.zeros(num_sigmas)\n",
      "    \n",
      "    for train,test in kf:\n",
      "    \n",
      "        r = 0\n",
      "    \n",
      "        v_train,v_test = values[train],values[test]\n",
      "\n",
      "        for sigma in sigmas:\n",
      "    \n",
      "            kde = KernelDensity(kernel='gaussian', bandwidth=sigma).fit(v_train)\n",
      "        \n",
      "            dens = np.exp(kde.score_samples(xy).reshape(N,N))\n",
      "            train_dens = np.histogram2d(v_test[:,0],v_test[:,1],bins=N,\n",
      "                range=[x_range,y_range],normed=True)[0]\n",
      "            diff = np.sum((train_dens-dens)**2)\n",
      "        \n",
      "            chisq[r] = chisq[r] + [diff]\n",
      "            r = r+1\n",
      "    \n",
      "    optimal_sigma = sigmas[np.argmin(chisq)]\n",
      "    \n",
      "    if plot_values:\n",
      "    \n",
      "        plt.figure(1)\n",
      "        plt.plot(sigmas,chisq,'k-')\n",
      "        plt.xlabel('gaussian bandwidth')\n",
      "        plt.ylabel('Total residual')\n",
      "        plt.show()\n",
      "        \n",
      "    return optimal_sigma  \n",
      "\n",
      "def get_kde_bandwidth2(values,x_range=None,y_range=None,N=10,n_folds=5,num_sigmas=20,plot_values=False):\n",
      "\n",
      "    params = {'bandwidth': np.logspace(-1,0.3,num_sigmas)}\n",
      "    grid = GridSearchCV(KernelDensity(), params,cv=5)\n",
      "    grid.fit(values)\n",
      "    optimal_sigma = grid.best_estimator_.bandwidth\n",
      "    gridscores = grid.grid_scores_\n",
      "    \n",
      "    sigmas = np.logspace(-1,0.3,num_sigmas)\n",
      "    chisq = np.zeros((num_sigmas,1))\n",
      "    for r in range(50):\n",
      "        chisq[r] = gridscores[r][1]\n",
      "    \n",
      "    if plot_values:\n",
      "        plt.figure(1)\n",
      "        plt.plot(sigmas,chisq,'r-')\n",
      "        \n",
      "    return optimal_sigma   "
     ],
     "language": "python",
     "metadata": {},
     "outputs": [],
     "prompt_number": 4
    },
    {
     "cell_type": "code",
     "collapsed": false,
     "input": [
      "def get_kde(values,x_range,y_range,bandwidth='optimal',N_out=100,print_bandwidth=False):\n",
      "    \n",
      "    if bandwidth == 'optimal':\n",
      "        u = get_kde_bandwidth1(values=values,x_range=x_range,y_range=y_range,plot_values=True,\n",
      "                              num_sigmas=50)\n",
      "        if print_bandwidth:\n",
      "            print(\"Optimised bandwidth from my 'method' = {0:0.2f}\".format(u))\n",
      "        \n",
      "        u = get_kde_bandwidth2(values=values,x_range=x_range,y_range=y_range,plot_values=True,\n",
      "                              num_sigmas=50)\n",
      "        \n",
      "        if print_bandwidth:\n",
      "            print(\"Optimised bandwidth from gridsearchCV = {0:0.2f}\".format(u))\n",
      "\n",
      "    else:\n",
      "        u = bandwidth\n",
      "\n",
      "    #xy = get_bins(N_out,x_range,y_range)\n",
      "    \n",
      "    xx,yy,xxc,yyc,xy = get_bins(x_range=x_range,y_range=y_range,N=N_out)\n",
      "    \n",
      "    kde = KernelDensity(kernel='gaussian', bandwidth=u).fit(values)\n",
      "    dens = np.exp(kde.score_samples(xy).reshape(N_out,N_out))\n",
      "\n",
      "    return dens#,grid.grid_scores_"
     ],
     "language": "python",
     "metadata": {},
     "outputs": [],
     "prompt_number": 5
    },
    {
     "cell_type": "code",
     "collapsed": false,
     "input": [
      "def sigma_hist(x,y,N_out=100,levels=[0.2,0.4,0.6,0.8],x_range=None,y_range=None,bandwidth='optimal'):\n",
      "    \n",
      "    values = np.array([x,y]).T # Read the x and y data into the correct format.\n",
      "    \n",
      "    # First set the x and y ranges if not done so already:\n",
      "    if x_range == None:\n",
      "        x_range = [np.min(values[:,0]),np.max(values[:,0])] \n",
      "    if y_range == None:\n",
      "        y_range = [np.min(values[:,1]),np.max(values[:,1])]\n",
      "      \n",
      "    values = values[(values[:,0] >= x_range[0]) & (values[:,0] <= x_range[1])\n",
      "        & (values[:,1] >= y_range[0]) & (values[:,1] <= y_range[1])]\n",
      "    \n",
      "    # Get x and y grid values:\n",
      "    X = np.linspace(x_range[0],x_range[1],N_out+1)\n",
      "    Y = np.linspace(y_range[0],y_range[1],N_out+1)\n",
      "    \n",
      "    xx=np.linspace(x_range[0],x_range[1],N_out)\n",
      "    yy=np.linspace(y_range[0],y_range[1],N_out)\n",
      "    \n",
      "    # Scale the appropriate values:\n",
      "    values_scaled = preprocessing.scale(values)\n",
      "    x_range_scaled = [(x_r-np.mean(x))*(1/np.std(x)) for x_r in x_range]\n",
      "    y_range_scaled = [(y_r-np.mean(y))*(1/np.std(y)) for y_r in y_range]\n",
      "    \n",
      "    # Get 2d KDE values.    \n",
      "    H = get_kde(values=values_scaled,x_range=x_range_scaled\n",
      "        ,y_range=y_range_scaled,print_bandwidth=True,bandwidth=bandwidth)\n",
      "    \n",
      "    # Rest is taken from the triangle.py method of plotting fractional data contours.\n",
      "    #--------------------------------------------------------------------------------\n",
      "    Hflat = H.flatten()\n",
      "    inds = np.argsort(Hflat)[::-1]\n",
      "    Hflat = Hflat[inds]\n",
      "    sm = np.cumsum(Hflat)\n",
      "    sm /= sm[-1]\n",
      "    V = np.empty(len(levels))\n",
      "    for i, v0 in enumerate(levels):\n",
      "        try:\n",
      "            V[i] = Hflat[sm <= v0][-1]\n",
      "        except:\n",
      "            V[i] = Hflat[0]\n",
      "\n",
      "    # Compute the bin centers.\n",
      "    X1, Y1 = 0.5 * (X[1:] + X[:-1]), 0.5 * (Y[1:] + Y[:-1])\n",
      "\n",
      "    # Extend the array for the sake of the contours at the plot edges.\n",
      "    H2 = H.min() + np.zeros((H.shape[0] + 4, H.shape[1] + 4))\n",
      "    H2[2:-2, 2:-2] = H\n",
      "    H2[2:-2, 1] = H[:, 0]\n",
      "    H2[2:-2, -2] = H[:, -1]\n",
      "    H2[1, 2:-2] = H[0]\n",
      "    H2[-2, 2:-2] = H[-1]\n",
      "    H2[1, 1] = H[0, 0]\n",
      "    H2[1, -2] = H[0, -1]\n",
      "    H2[-2, 1] = H[-1, 0]\n",
      "    H2[-2, -2] = H[-1, -1]\n",
      "    X2 = np.concatenate([\n",
      "        X1[0] + np.array([-2, -1]) * np.diff(X1[:2]),\n",
      "        X1,\n",
      "        X1[-1] + np.array([1, 2]) * np.diff(X1[-2:]),\n",
      "    ])\n",
      "    Y2 = np.concatenate([\n",
      "        Y1[0] + np.array([-2, -1]) * np.diff(Y1[:2]),\n",
      "        Y1,\n",
      "        Y1[-1] + np.array([1, 2]) * np.diff(Y1[-2:]),\n",
      "    ])\n",
      "\n",
      "    #H2 = H2.T\n",
      "    #--------------------------------------------------------------------------------\n",
      "    return X2,Y2,H2,V#,gridscores"
     ],
     "language": "python",
     "metadata": {},
     "outputs": [],
     "prompt_number": 6
    },
    {
     "cell_type": "code",
     "collapsed": false,
     "input": [
      "x = np.random.randn(10**3) + 2\n",
      "y = 2*(np.random.randn(10**3)) + 1\n",
      "\n",
      "x2,y2,h2,v2 = sigma_hist(x,y)\n",
      "\n",
      "#plt.subplot(111,aspect='equal')\n",
      "#plt.contour(x2,y2,h2,v2,colors='k',levels=v2)"
     ],
     "language": "python",
     "metadata": {},
     "outputs": [
      {
       "metadata": {},
       "output_type": "display_data",
       "png": "[encoded data removed]",
       "text": [
        "<matplotlib.figure.Figure at 0x2b4c2ed2bcf8>"
       ]
      },
      {
       "output_type": "stream",
       "stream": "stdout",
       "text": [
        "Optimised bandwidth from my 'method' = 0.52\n",
        "Optimised bandwidth from gridsearchCV = 0.38"
       ]
      },
      {
       "output_type": "stream",
       "stream": "stdout",
       "text": [
        "\n"
       ]
      },
      {
       "metadata": {},
       "output_type": "display_data",
       "png": "[encoded data removed]",
       "text": [
        "<matplotlib.figure.Figure at 0x2b4c2ed2bf98>"
       ]
      }
     ],
     "prompt_number": 7
    },
    {
     "cell_type": "code",
     "collapsed": false,
     "input": [
      "# Try the contour method w. some real data\n",
      "\n",
      "start = time.clock()\n",
      "\n",
      "cx=['PETROMAG_MU','PETROMAG_MR']\n",
      "cy=['PETROMAG_MR','PETROMAG_MZ']\n",
      "\n",
      "xrng = [1,3]\n",
      "yrng = [0,1]\n",
      "\n",
      "t,ft = load_data.load(cx=cx,cy=cy,p_th=0.5,N_th=5,norm=False,p_values='d')\n",
      "b,t = load_data.assign(table=t,Nb=20,th=0.5,equal_samples=False,redistribute=False\n",
      "                       ,rd_th=0,ct_th=0,print_sizes=True)\n",
      "\n",
      "#f,a = plotting.make_grid(title=False,title_position=[0,0],x_limits=xrng,y_limits=yrng\n",
      "          #,x_label='u-r',y_label='r-z',x_ticks=[1,2.5,0.5],y_ticks=[0,0.8,0.2],figsize=[15,10])\n",
      "\n",
      "clr = ['orange','r','purple','g','b']\n",
      "\n",
      "for m in range(4,5):\n",
      "    \n",
      "    t_r = t[b[:,1] == m]\n",
      "    \n",
      "    #ax = a[m]\n",
      "    \n",
      "    x2,y2,h2,v2 = sigma_hist(x=t_r[:,-1],y=t_r[:,-2],x_range=xrng,y_range=yrng)\n",
      "    #x3,y3,h3,v3 = sigma_hist(x=t_r[:,-1],y=t_r[:,-2],x_range=xrng,y_range=yrng,bandwidth=0.2)\n",
      "    \n",
      "    #ax.contour(x2,y2,h2,colors=clr[m],levels=v2)\n",
      "    #ax.contour(x3,y3,h3,colors=clr[m],levels=v3,linewidth=2,linestyles='dashed',linewidths=2)\n",
      "    #ax.scatter(t_r[:,-1],t_r[:,-2],color=clr[m],marker='x',alpha=0.5)\n",
      "       \n",
      "print('{0:0.1f} seconds in total'.format(time.clock() - start)) # Time it took to plot all of this."
     ],
     "language": "python",
     "metadata": {},
     "outputs": [
      {
       "output_type": "stream",
       "stream": "stdout",
       "text": [
        "total sample: 12136\n",
        "total 'assigned' sample: 7625\n",
        "m = 1: 89\n",
        "m = 2: 4447\n",
        "m = 3: 988\n",
        "m = 4: 418\n",
        "m = 5: 474\n",
        "m = 6: 1209\n"
       ]
      },
      {
       "metadata": {},
       "output_type": "display_data",
       "png": "[encoded data removed]",
       "text": [
        "<matplotlib.figure.Figure at 0x2b4c1e71f5f8>"
       ]
      },
      {
       "output_type": "stream",
       "stream": "stdout",
       "text": [
        "Optimised bandwidth from my 'method' = 0.38\n",
        "Optimised bandwidth from gridsearchCV = 1.08"
       ]
      },
      {
       "output_type": "stream",
       "stream": "stdout",
       "text": [
        "\n",
        "2.3 seconds in total"
       ]
      },
      {
       "output_type": "stream",
       "stream": "stdout",
       "text": [
        "\n"
       ]
      },
      {
       "metadata": {},
       "output_type": "display_data",
       "png": "[encoded data removed]",
       "text": [
        "<matplotlib.figure.Figure at 0x2b4c1e7e5f60>"
       ]
      }
     ],
     "prompt_number": 9
    },
    {
     "cell_type": "code",
     "collapsed": false,
     "input": [
      "    # Scale the appropriate values:\n",
      "    #values = preprocessing.scale(values)\n",
      "    #x_range_scaled = [(x_r-np.mean(x))*(1/np.std(x)) for x_r in x_range]\n",
      "    #y_range_scaled = [(y_r-np.mean(y))*(1/np.std(y)) for y_r in y_range]"
     ],
     "language": "python",
     "metadata": {},
     "outputs": []
    }
   ],
   "metadata": {}
  }
 ]
}